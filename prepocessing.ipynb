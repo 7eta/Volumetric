{
 "cells": [
  {
   "cell_type": "code",
   "execution_count": 1,
   "id": "a6cd6d91",
   "metadata": {},
   "outputs": [
    {
     "name": "stdout",
     "output_type": "stream",
     "text": [
      "Reading package lists... Done\n",
      "Building dependency tree       \n",
      "Reading state information... Done\n",
      "cmake is already the newest version (3.16.3-1ubuntu1).\n",
      "build-essential is already the newest version (12.8ubuntu1.1).\n",
      "build-essential set to manually installed.\n",
      "git is already the newest version (1:2.25.1-1ubuntu3.2).\n",
      "The following packages were automatically installed and are no longer required:\n",
      "  accountsservice-ubuntu-schemas bc bluez-obexd cups cups-browsed cups-client\n",
      "  cups-common cups-core-drivers cups-daemon cups-filters\n",
      "  cups-filters-core-drivers cups-ipp-utils cups-ppdc cups-server-common\n",
      "  fonts-droid-fallback fonts-noto-mono fonts-urw-base35 ghostscript\n",
      "  gir1.2-dbusmenu-glib-0.4 gnome-bluetooth gnome-power-manager\n",
      "  gnome-screensaver gsettings-ubuntu-schemas gvfs-backends indicator-applet\n",
      "  indicator-application indicator-appmenu indicator-bluetooth indicator-common\n",
      "  indicator-datetime indicator-keyboard indicator-messages indicator-power\n",
      "  indicator-printers indicator-session indicator-sound jayatana\n",
      "  libaccounts-glib0 libbamf3-2 libcdio-cdda2 libcdio-paranoia2 libcdio18\n",
      "  libcupsfilters1 libfcitx-config4 libfcitx-gclient1 libfcitx-utils0\n",
      "  libfontembed1 libgnome-panel0 libgs9 libgs9-common libido3-0.1-0 libijs-0.35\n",
      "  libindicator3-7 libjbig2dec0 liblightdm-gobject-1-0 liblouis-data liblouis20\n",
      "  liblouisutdml-bin liblouisutdml-data liblouisutdml9 libmessaging-menu0\n",
      "  libmtp-common libmtp-runtime libmtp9 libnfs13 libpaper-utils libpaper1\n",
      "  libpoppler-cpp0v5 libqpdf26 libunity-gtk2-parser0 libunity-gtk3-parser0\n",
      "  libunity-settings-daemon1 liburl-dispatcher1 lightdm nautilus-data\n",
      "  poppler-utils python3-psutil python3-xdg ssl-cert ubuntu-touch-sounds\n",
      "  unity-greeter unity-gtk-module-common unity-gtk2-module unity-gtk3-module\n",
      "  unity-settings-daemon unity-settings-daemon-schemas\n",
      "Use 'sudo apt autoremove' to remove them.\n",
      "The following additional packages will be installed:\n",
      "  cpp-8 gcc-8 gcc-8-base gfortran gfortran-8 gfortran-9 googletest\n",
      "  ibverbs-providers libaec-dev libaec0 libamd2 libatlas3-base libblas-dev\n",
      "  libblas3 libboost-atomic1.71-dev libboost-atomic1.71.0\n",
      "  libboost-chrono1.71-dev libboost-chrono1.71.0 libboost-date-time1.71-dev\n",
      "  libboost-date-time1.71.0 libboost-dev libboost-filesystem1.71-dev\n",
      "  libboost-filesystem1.71.0 libboost-graph1.71-dev libboost-graph1.71.0\n",
      "  libboost-program-options1.71-dev libboost-program-options1.71.0\n",
      "  libboost-regex1.71-dev libboost-regex1.71.0 libboost-serialization1.71-dev\n",
      "  libboost-serialization1.71.0 libboost-system1.71-dev libboost-system1.71.0\n",
      "  libboost-test1.71-dev libboost-test1.71.0 libboost-thread-dev\n",
      "  libboost-thread1.71-dev libboost1.71-dev libbtf1 libcaf-openmpi-3 libcamd2\n",
      "  libccolamd2 libceres1 libcholmod3 libcoarrays-dev libcoarrays-openmpi-dev\n",
      "  libcolamd2 libcxsparse3 libevent-2.1-7 libevent-core-2.1-7 libevent-dev\n",
      "  libevent-extra-2.1-7 libevent-openssl-2.1-7 libevent-pthreads-2.1-7\n",
      "  libfabric1 libflann1.9 libfreeimage3 libgcc-8-dev libgflags-dev libgflags2.2\n",
      "  libgfortran-8-dev libgfortran-9-dev libgfortran5 libglew2.1 libglu1-mesa-dev\n",
      "  libgmp-dev libgmpxx4ldbl libgoogle-glog0v5 libgraphblas3 libhdf5-mpi-dev\n",
      "  libhdf5-openmpi-103 libhdf5-openmpi-dev libhwloc-dev libhwloc-plugins\n",
      "  libhwloc15 libibverbs-dev libibverbs1 libilmbase24 libjpeg-dev\n",
      "  libjpeg-turbo8-dev libjpeg8-dev libjxr0 libklu1 liblapack-dev liblapack3\n",
      "  libldl2 liblz4-dev libmetis5 libmongoose2 libmpfr-dev libmpx2 libnl-3-dev\n",
      "  libnl-route-3-dev libnuma-dev libnuma1 libopenexr24 libopenmpi-dev\n",
      "  libopenmpi3 libpmix2 libpsm-infinipath1 libpsm2-2 libqt5concurrent5\n",
      "  libqt5opengl5 libqt5sql5 libqt5sql5-sqlite libqt5test5 libraw19 librbio2\n",
      "  librdmacm1 libspqr2 libsuitesparse-dev libsuitesparseconfig5 libsz2\n",
      "  libumfpack5 libvulkan-dev libxnvctrl0 mpi-default-dev ocl-icd-libopencl1\n",
      "  openmpi-bin openmpi-common qt5-qmake qt5-qmake-bin qtbase5-dev-tools\n",
      "  qtchooser\n",
      "Suggested packages:\n",
      "  gcc-8-locales gcc-8-multilib gcc-8-doc gfortran-multilib gfortran-doc\n",
      "  gfortran-8-multilib gfortran-8-doc gfortran-9-multilib gfortran-9-doc\n",
      "  liblapack-doc libboost-doc libboost1.71-doc libboost-container1.71-dev\n",
      "  libboost-context1.71-dev libboost-contract1.71-dev\n",
      "  libboost-coroutine1.71-dev libboost-exception1.71-dev libboost-fiber1.71-dev\n",
      "  libboost-graph-parallel1.71-dev libboost-iostreams1.71-dev\n",
      "  libboost-locale1.71-dev libboost-log1.71-dev libboost-math1.71-dev\n",
      "  libboost-mpi1.71-dev libboost-mpi-python1.71-dev libboost-numpy1.71-dev\n",
      "  libboost-python1.71-dev libboost-random1.71-dev libboost-stacktrace1.71-dev\n",
      "  libboost-timer1.71-dev libboost-type-erasure1.71-dev libboost-wave1.71-dev\n",
      "  libboost1.71-tools-dev libmpfrc++-dev libntl-dev libmpfi-dev libtbb-dev\n",
      "  libeigen3-doc glew-utils gmp-doc libgmp10-doc libhdf5-doc\n",
      "  libhwloc-contrib-plugins libmpfr-doc openmpi-doc sqlite3-doc opencl-icd\n",
      "  default-libmysqlclient-dev firebird-dev libpq-dev unixodbc-dev\n",
      "The following NEW packages will be installed:\n",
      "  cpp-8 gcc-8 gcc-8-base gfortran gfortran-8 gfortran-9 googletest\n",
      "  ibverbs-providers libaec-dev libaec0 libamd2 libatlas3-base libblas-dev\n",
      "  libblas3 libboost-atomic1.71-dev libboost-atomic1.71.0\n",
      "  libboost-chrono1.71-dev libboost-chrono1.71.0 libboost-date-time1.71-dev\n",
      "  libboost-date-time1.71.0 libboost-dev libboost-filesystem-dev\n",
      "  libboost-filesystem1.71-dev libboost-filesystem1.71.0 libboost-graph-dev\n",
      "  libboost-graph1.71-dev libboost-graph1.71.0 libboost-program-options-dev\n",
      "  libboost-program-options1.71-dev libboost-program-options1.71.0\n",
      "  libboost-regex1.71-dev libboost-regex1.71.0 libboost-serialization1.71-dev\n",
      "  libboost-serialization1.71.0 libboost-system-dev libboost-system1.71-dev\n",
      "  libboost-system1.71.0 libboost-test1.71-dev libboost-test1.71.0\n",
      "  libboost-thread-dev libboost-thread1.71-dev libboost1.71-dev libbtf1\n",
      "  libcaf-openmpi-3 libcamd2 libccolamd2 libceres-dev libceres1 libcgal-dev\n",
      "  libcholmod3 libcoarrays-dev libcoarrays-openmpi-dev libcolamd2 libcxsparse3\n",
      "  libeigen3-dev libevent-2.1-7 libevent-core-2.1-7 libevent-dev\n",
      "  libevent-extra-2.1-7 libevent-openssl-2.1-7 libevent-pthreads-2.1-7\n",
      "  libfabric1 libflann-dev libflann1.9 libfreeimage-dev libfreeimage3\n",
      "  libgcc-8-dev libgflags-dev libgflags2.2 libgfortran-8-dev libgfortran-9-dev\n",
      "  libgfortran5 libglew-dev libglew2.1 libglu1-mesa-dev libgmp-dev\n",
      "  libgmpxx4ldbl libgoogle-glog-dev libgoogle-glog0v5 libgraphblas3\n",
      "  libgtest-dev libhdf5-mpi-dev libhdf5-openmpi-103 libhdf5-openmpi-dev\n",
      "  libhwloc-dev libhwloc-plugins libhwloc15 libibverbs-dev libibverbs1\n",
      "  libilmbase24 libjpeg-dev libjpeg-turbo8-dev libjpeg8-dev libjxr0 libklu1\n",
      "  liblapack-dev liblapack3 libldl2 liblz4-dev libmetis-dev libmetis5\n",
      "  libmongoose2 libmpfr-dev libmpx2 libnl-3-dev libnl-route-3-dev libnuma-dev\n",
      "  libnuma1 libopenexr24 libopenmpi-dev libopenmpi3 libpmix2 libpsm-infinipath1\n",
      "  libpsm2-2 libqt5concurrent5 libqt5opengl5 libqt5opengl5-dev libqt5sql5\n",
      "  libqt5sql5-sqlite libqt5test5 libraw19 librbio2 librdmacm1 libspqr2\n",
      "  libsqlite3-dev libsuitesparse-dev libsuitesparseconfig5 libsz2 libumfpack5\n",
      "  libvulkan-dev libxnvctrl0 mpi-default-dev ninja-build ocl-icd-libopencl1\n",
      "  openmpi-bin openmpi-common qt5-qmake qt5-qmake-bin qtbase5-dev\n",
      "  qtbase5-dev-tools qtchooser\n",
      "0 upgraded, 141 newly installed, 0 to remove and 0 not upgraded.\n",
      "Need to get 104 MB of archives.\n",
      "After this operation, 700 MB of additional disk space will be used.\n",
      "Get:1 http://archive.ubuntu.com/ubuntu focal/main amd64 libnuma1 amd64 2.0.12-1 [20.8 kB]\n",
      "Get:2 http://archive.ubuntu.com/ubuntu focal/universe amd64 gcc-8-base amd64 8.4.0-3ubuntu2 [18.7 kB]\n",
      "Get:3 http://archive.ubuntu.com/ubuntu focal/universe amd64 cpp-8 amd64 8.4.0-3ubuntu2 [8,945 kB]\n",
      "Get:4 http://archive.ubuntu.com/ubuntu focal/universe amd64 libmpx2 amd64 8.4.0-3ubuntu2 [11.8 kB]\n",
      "Get:5 http://archive.ubuntu.com/ubuntu focal/universe amd64 libgcc-8-dev amd64 8.4.0-3ubuntu2 [2,313 kB]\n",
      "Get:6 http://archive.ubuntu.com/ubuntu focal/universe amd64 gcc-8 amd64 8.4.0-3ubuntu2 [9,833 kB]\n",
      "Ign:7 http://archive.ubuntu.com/ubuntu focal-updates/main amd64 libgfortran5 amd64 10.3.0-1ubuntu1~20.04\n",
      "Ign:8 http://archive.ubuntu.com/ubuntu focal-updates/main amd64 libgfortran-9-dev amd64 9.3.0-17ubuntu1~20.04\n",
      "Ign:9 http://archive.ubuntu.com/ubuntu focal-updates/main amd64 gfortran-9 amd64 9.3.0-17ubuntu1~20.04\n",
      "Get:10 http://archive.ubuntu.com/ubuntu focal/main amd64 gfortran amd64 4:9.3.0-1ubuntu2 [1,372 B]\n",
      "Get:11 http://archive.ubuntu.com/ubuntu focal/universe amd64 libgfortran-8-dev amd64 8.4.0-3ubuntu2 [625 kB]\n"
     ]
    },
    {
     "name": "stdout",
     "output_type": "stream",
     "text": [
      "Get:12 http://archive.ubuntu.com/ubuntu focal/universe amd64 gfortran-8 amd64 8.4.0-3ubuntu2 [9,424 kB]\n",
      "Err:7 http://security.ubuntu.com/ubuntu focal-updates/main amd64 libgfortran5 amd64 10.3.0-1ubuntu1~20.04\n",
      "  404  Not Found [IP: 91.189.91.81 80]\n",
      "Err:8 http://security.ubuntu.com/ubuntu focal-updates/main amd64 libgfortran-9-dev amd64 9.3.0-17ubuntu1~20.04\n",
      "  404  Not Found [IP: 91.189.91.81 80]\n",
      "Err:9 http://security.ubuntu.com/ubuntu focal-updates/main amd64 gfortran-9 amd64 9.3.0-17ubuntu1~20.04\n",
      "  404  Not Found [IP: 91.189.91.81 80]\n",
      "Get:13 http://archive.ubuntu.com/ubuntu focal/universe amd64 googletest all 1.10.0-2 [623 kB]\n",
      "Get:14 http://archive.ubuntu.com/ubuntu focal/main amd64 libibverbs1 amd64 28.0-1ubuntu1 [53.6 kB]\n",
      "Get:15 http://archive.ubuntu.com/ubuntu focal/main amd64 ibverbs-providers amd64 28.0-1ubuntu1 [232 kB]\n",
      "Get:16 http://archive.ubuntu.com/ubuntu focal/universe amd64 libaec0 amd64 1.0.4-1 [19.1 kB]\n",
      "Get:17 http://archive.ubuntu.com/ubuntu focal/main amd64 libsuitesparseconfig5 amd64 1:5.7.1+dfsg-2 [9,736 B]\n",
      "Get:18 http://archive.ubuntu.com/ubuntu focal/main amd64 libamd2 amd64 1:5.7.1+dfsg-2 [20.0 kB]\n",
      "Get:19 http://archive.ubuntu.com/ubuntu focal/universe amd64 libatlas3-base amd64 3.10.3-8ubuntu7 [3,736 kB]\n",
      "Get:20 http://archive.ubuntu.com/ubuntu focal/main amd64 libblas3 amd64 3.9.0-1build1 [142 kB]\n",
      "Get:21 http://archive.ubuntu.com/ubuntu focal/main amd64 libblas-dev amd64 3.9.0-1build1 [147 kB]\n",
      "Get:22 http://archive.ubuntu.com/ubuntu focal/main amd64 libboost1.71-dev amd64 1.71.0-6ubuntu6 [9,068 kB]\n",
      "Get:23 http://archive.ubuntu.com/ubuntu focal/main amd64 libboost-atomic1.71.0 amd64 1.71.0-6ubuntu6 [205 kB]\n",
      "Get:24 http://archive.ubuntu.com/ubuntu focal/main amd64 libboost-atomic1.71-dev amd64 1.71.0-6ubuntu6 [205 kB]\n",
      "Get:25 http://archive.ubuntu.com/ubuntu focal/main amd64 libboost-chrono1.71.0 amd64 1.71.0-6ubuntu6 [217 kB]\n",
      "Get:26 http://archive.ubuntu.com/ubuntu focal/main amd64 libboost-chrono1.71-dev amd64 1.71.0-6ubuntu6 [225 kB]\n",
      "Get:27 http://archive.ubuntu.com/ubuntu focal/main amd64 libboost-date-time1.71.0 amd64 1.71.0-6ubuntu6 [219 kB]\n",
      "Get:28 http://archive.ubuntu.com/ubuntu focal/main amd64 libboost-serialization1.71.0 amd64 1.71.0-6ubuntu6 [302 kB]\n",
      "Get:29 http://archive.ubuntu.com/ubuntu focal/main amd64 libboost-serialization1.71-dev amd64 1.71.0-6ubuntu6 [344 kB]\n",
      "Get:30 http://archive.ubuntu.com/ubuntu focal/main amd64 libboost-date-time1.71-dev amd64 1.71.0-6ubuntu6 [228 kB]\n",
      "Get:31 http://archive.ubuntu.com/ubuntu focal/main amd64 libboost-dev amd64 1.71.0.0ubuntu2 [3,596 B]\n",
      "Get:32 http://archive.ubuntu.com/ubuntu focal/main amd64 libboost-filesystem1.71.0 amd64 1.71.0-6ubuntu6 [242 kB]\n",
      "Get:33 http://archive.ubuntu.com/ubuntu focal/main amd64 libboost-system1.71.0 amd64 1.71.0-6ubuntu6 [205 kB]\n",
      "Get:34 http://archive.ubuntu.com/ubuntu focal/main amd64 libboost-system1.71-dev amd64 1.71.0-6ubuntu6 [205 kB]\n",
      "Get:35 http://archive.ubuntu.com/ubuntu focal/main amd64 libboost-filesystem1.71-dev amd64 1.71.0-6ubuntu6 [258 kB]\n",
      "Get:36 http://archive.ubuntu.com/ubuntu focal/main amd64 libboost-filesystem-dev amd64 1.71.0.0ubuntu2 [3,420 B]\n",
      "Get:37 http://archive.ubuntu.com/ubuntu focal/universe amd64 libboost-regex1.71.0 amd64 1.71.0-6ubuntu6 [471 kB]\n",
      "Get:38 http://archive.ubuntu.com/ubuntu focal/universe amd64 libboost-graph1.71.0 amd64 1.71.0-6ubuntu6 [297 kB]\n",
      "Get:39 http://archive.ubuntu.com/ubuntu focal/universe amd64 libboost-regex1.71-dev amd64 1.71.0-6ubuntu6 [557 kB]\n",
      "Get:40 http://archive.ubuntu.com/ubuntu focal/universe amd64 libboost-test1.71.0 amd64 1.71.0-6ubuntu6 [437 kB]\n",
      "Get:41 http://archive.ubuntu.com/ubuntu focal/universe amd64 libboost-test1.71-dev amd64 1.71.0-6ubuntu6 [513 kB]\n",
      "Get:42 http://archive.ubuntu.com/ubuntu focal/universe amd64 libboost-graph1.71-dev amd64 1.71.0-6ubuntu6 [317 kB]\n",
      "Get:43 http://archive.ubuntu.com/ubuntu focal/universe amd64 libboost-graph-dev amd64 1.71.0.0ubuntu2 [3,500 B]\n",
      "Get:44 http://archive.ubuntu.com/ubuntu focal/main amd64 libboost-program-options1.71.0 amd64 1.71.0-6ubuntu6 [342 kB]\n",
      "Get:45 http://archive.ubuntu.com/ubuntu focal/main amd64 libboost-program-options1.71-dev amd64 1.71.0-6ubuntu6 [374 kB]\n",
      "Get:46 http://archive.ubuntu.com/ubuntu focal/main amd64 libboost-program-options-dev amd64 1.71.0.0ubuntu2 [3,408 B]\n",
      "Get:47 http://archive.ubuntu.com/ubuntu focal/main amd64 libboost-system-dev amd64 1.71.0.0ubuntu2 [3,536 B]\n",
      "Get:48 http://archive.ubuntu.com/ubuntu focal/main amd64 libboost-thread1.71-dev amd64 1.71.0-6ubuntu6 [258 kB]\n",
      "Get:49 http://archive.ubuntu.com/ubuntu focal/main amd64 libboost-thread-dev amd64 1.71.0.0ubuntu2 [3,416 B]\n",
      "Get:50 http://archive.ubuntu.com/ubuntu focal/main amd64 libbtf1 amd64 1:5.7.1+dfsg-2 [11.3 kB]\n",
      "Get:51 http://archive.ubuntu.com/ubuntu focal/main amd64 libevent-2.1-7 amd64 2.1.11-stable-1 [138 kB]\n",
      "Get:52 http://archive.ubuntu.com/ubuntu focal/main amd64 libevent-core-2.1-7 amd64 2.1.11-stable-1 [89.1 kB]\n",
      "Get:53 http://archive.ubuntu.com/ubuntu focal/main amd64 libevent-pthreads-2.1-7 amd64 2.1.11-stable-1 [7,372 B]\n",
      "Get:54 http://archive.ubuntu.com/ubuntu focal/universe amd64 libpsm-infinipath1 amd64 3.3+20.604758e7-6 [168 kB]\n",
      "Get:55 http://archive.ubuntu.com/ubuntu focal/universe amd64 libpsm2-2 amd64 11.2.86-1 [178 kB]\n",
      "Get:56 http://archive.ubuntu.com/ubuntu focal/main amd64 librdmacm1 amd64 28.0-1ubuntu1 [64.9 kB]\n",
      "Get:57 http://archive.ubuntu.com/ubuntu focal/universe amd64 libfabric1 amd64 1.6.2-3 [396 kB]\n",
      "Get:58 http://archive.ubuntu.com/ubuntu focal/universe amd64 libhwloc15 amd64 2.1.0+dfsg-4 [134 kB]\n",
      "Err:59 http://archive.ubuntu.com/ubuntu focal-updates/main amd64 libxnvctrl0 amd64 470.57.01-0ubuntu0.20.04.2\n",
      "  404  Not Found [IP: 91.189.91.81 80]\n",
      "Get:60 http://archive.ubuntu.com/ubuntu focal/main amd64 ocl-icd-libopencl1 amd64 2.2.11-1ubuntu1 [30.3 kB]\n",
      "Get:61 http://archive.ubuntu.com/ubuntu focal/universe amd64 libhwloc-plugins amd64 2.1.0+dfsg-4 [14.4 kB]\n",
      "Get:62 http://archive.ubuntu.com/ubuntu focal/universe amd64 libpmix2 amd64 3.1.5-1 [442 kB]\n",
      "Get:63 http://archive.ubuntu.com/ubuntu focal/universe amd64 libopenmpi3 amd64 4.0.3-0ubuntu1 [1,978 kB]\n",
      "Get:64 http://archive.ubuntu.com/ubuntu focal/universe amd64 libcaf-openmpi-3 amd64 2.8.0-1 [35.5 kB]\n",
      "Get:65 http://archive.ubuntu.com/ubuntu focal/main amd64 libcamd2 amd64 1:5.7.1+dfsg-2 [21.7 kB]\n",
      "Get:66 http://archive.ubuntu.com/ubuntu focal/main amd64 libccolamd2 amd64 1:5.7.1+dfsg-2 [23.2 kB]\n",
      "Get:67 http://archive.ubuntu.com/ubuntu focal/main amd64 libcolamd2 amd64 1:5.7.1+dfsg-2 [17.0 kB]\n",
      "Get:68 http://archive.ubuntu.com/ubuntu focal/main amd64 liblapack3 amd64 3.9.0-1build1 [2,154 kB]\n",
      "Get:69 http://archive.ubuntu.com/ubuntu focal/main amd64 libmetis5 amd64 5.1.0.dfsg-5 [169 kB]\n",
      "Get:70 http://archive.ubuntu.com/ubuntu focal/main amd64 libcholmod3 amd64 1:5.7.1+dfsg-2 [308 kB]\n",
      "Get:71 http://archive.ubuntu.com/ubuntu focal/main amd64 libcxsparse3 amd64 1:5.7.1+dfsg-2 [64.2 kB]\n",
      "Get:72 http://archive.ubuntu.com/ubuntu focal/universe amd64 libgflags2.2 amd64 2.2.2-1build1 [78.0 kB]\n",
      "Get:73 http://archive.ubuntu.com/ubuntu focal/universe amd64 libgoogle-glog0v5 amd64 0.4.0-1build1 [51.5 kB]\n",
      "Get:74 http://archive.ubuntu.com/ubuntu focal/main amd64 libspqr2 amd64 1:5.7.1+dfsg-2 [64.8 kB]\n",
      "Get:75 http://archive.ubuntu.com/ubuntu focal-updates/universe amd64 libceres1 amd64 1.14.0-4ubuntu1.1 [679 kB]\n",
      "Get:76 http://archive.ubuntu.com/ubuntu focal/universe amd64 libgflags-dev amd64 2.2.2-1build1 [96.6 kB]\n",
      "Get:77 http://archive.ubuntu.com/ubuntu focal/universe amd64 libgoogle-glog-dev amd64 0.4.0-1build1 [76.4 kB]\n",
      "Get:78 http://archive.ubuntu.com/ubuntu focal/universe amd64 libeigen3-dev all 3.3.7-2 [815 kB]\n",
      "Get:79 http://archive.ubuntu.com/ubuntu focal/main amd64 libgraphblas3 amd64 1:5.7.1+dfsg-2 [3,770 kB]\n",
      "Get:80 http://archive.ubuntu.com/ubuntu focal/main amd64 libklu1 amd64 1:5.7.1+dfsg-2 [71.7 kB]\n",
      "Get:81 http://archive.ubuntu.com/ubuntu focal/main amd64 libldl2 amd64 1:5.7.1+dfsg-2 [11.0 kB]\n",
      "Get:82 http://archive.ubuntu.com/ubuntu focal/main amd64 libmongoose2 amd64 1:5.7.1+dfsg-2 [31.4 kB]\n",
      "Get:83 http://archive.ubuntu.com/ubuntu focal/main amd64 libumfpack5 amd64 1:5.7.1+dfsg-2 [229 kB]\n",
      "Get:84 http://archive.ubuntu.com/ubuntu focal/main amd64 librbio2 amd64 1:5.7.1+dfsg-2 [24.5 kB]\n",
      "Get:85 http://archive.ubuntu.com/ubuntu focal/main amd64 liblapack-dev amd64 3.9.0-1build1 [4,242 kB]\n"
     ]
    },
    {
     "name": "stdout",
     "output_type": "stream",
     "text": [
      "Get:86 http://archive.ubuntu.com/ubuntu focal/main amd64 libsuitesparse-dev amd64 1:5.7.1+dfsg-2 [4,161 kB]\n",
      "Get:87 http://archive.ubuntu.com/ubuntu focal-updates/universe amd64 libceres-dev amd64 1.14.0-4ubuntu1.1 [888 kB]\n",
      "Get:88 http://archive.ubuntu.com/ubuntu focal/main amd64 libgmpxx4ldbl amd64 2:6.2.0+dfsg-4 [9,128 B]\n",
      "Get:89 http://archive.ubuntu.com/ubuntu focal/main amd64 libgmp-dev amd64 2:6.2.0+dfsg-4 [320 kB]\n",
      "Get:90 http://archive.ubuntu.com/ubuntu focal/main amd64 libmpfr-dev amd64 4.0.2-1 [240 kB]\n",
      "Get:91 http://archive.ubuntu.com/ubuntu focal/universe amd64 libcgal-dev amd64 5.0.2-3 [4,370 kB]\n",
      "Get:92 http://archive.ubuntu.com/ubuntu focal/universe amd64 libcoarrays-dev amd64 2.8.0-1 [28.2 kB]\n",
      "Get:93 http://archive.ubuntu.com/ubuntu focal/universe amd64 openmpi-common all 4.0.3-0ubuntu1 [151 kB]\n",
      "Get:94 http://archive.ubuntu.com/ubuntu focal/universe amd64 openmpi-bin amd64 4.0.3-0ubuntu1 [67.4 kB]\n",
      "Get:95 http://archive.ubuntu.com/ubuntu focal/universe amd64 libcoarrays-openmpi-dev amd64 2.8.0-1 [34.2 kB]\n",
      "Get:96 http://archive.ubuntu.com/ubuntu focal/main amd64 libevent-extra-2.1-7 amd64 2.1.11-stable-1 [60.0 kB]\n",
      "Get:97 http://archive.ubuntu.com/ubuntu focal/main amd64 libevent-openssl-2.1-7 amd64 2.1.11-stable-1 [14.3 kB]\n",
      "Get:98 http://archive.ubuntu.com/ubuntu focal/main amd64 libevent-dev amd64 2.1.11-stable-1 [261 kB]\n",
      "Get:99 http://archive.ubuntu.com/ubuntu focal/universe amd64 libflann1.9 amd64 1.9.1+dfsg-9build1 [746 kB]\n",
      "Get:100 http://archive.ubuntu.com/ubuntu focal/universe amd64 libsz2 amd64 1.0.4-1 [5,188 B]\n",
      "Get:101 http://archive.ubuntu.com/ubuntu focal/universe amd64 libhdf5-openmpi-103 amd64 1.10.4+repack-11ubuntu1 [1,355 kB]\n",
      "Get:102 http://archive.ubuntu.com/ubuntu focal/universe amd64 libaec-dev amd64 1.0.4-1 [16.9 kB]\n",
      "Ign:103 http://archive.ubuntu.com/ubuntu focal-updates/main amd64 libjpeg-turbo8-dev amd64 2.0.3-0ubuntu1.20.04.1\n",
      "Get:104 http://archive.ubuntu.com/ubuntu focal/main amd64 libjpeg8-dev amd64 8c-2ubuntu8 [1,552 B]\n",
      "Get:105 http://archive.ubuntu.com/ubuntu focal/main amd64 libjpeg-dev amd64 8c-2ubuntu8 [1,546 B]\n",
      "Get:106 http://archive.ubuntu.com/ubuntu focal/main amd64 libnl-3-dev amd64 3.4.0-1 [92.2 kB]\n",
      "Err:103 http://security.ubuntu.com/ubuntu focal-updates/main amd64 libjpeg-turbo8-dev amd64 2.0.3-0ubuntu1.20.04.1\n",
      "  404  Not Found [IP: 91.189.91.81 80]\n",
      "Get:107 http://archive.ubuntu.com/ubuntu focal/main amd64 libnl-route-3-dev amd64 3.4.0-1 [166 kB]\n",
      "Get:108 http://archive.ubuntu.com/ubuntu focal/main amd64 libibverbs-dev amd64 28.0-1ubuntu1 [444 kB]\n",
      "Get:109 http://archive.ubuntu.com/ubuntu focal/main amd64 libnuma-dev amd64 2.0.12-1 [32.4 kB]\n",
      "Get:110 http://archive.ubuntu.com/ubuntu focal/universe amd64 libhwloc-dev amd64 2.1.0+dfsg-4 [205 kB]\n",
      "Get:111 http://archive.ubuntu.com/ubuntu focal/universe amd64 libopenmpi-dev amd64 4.0.3-0ubuntu1 [798 kB]\n",
      "Get:112 http://archive.ubuntu.com/ubuntu focal/universe amd64 libhdf5-openmpi-dev amd64 1.10.4+repack-11ubuntu1 [2,510 kB]\n",
      "Get:113 http://archive.ubuntu.com/ubuntu focal/universe amd64 mpi-default-dev amd64 1.13 [3,748 B]\n",
      "Get:114 http://archive.ubuntu.com/ubuntu focal/universe amd64 libhdf5-mpi-dev amd64 1.10.4+repack-11ubuntu1 [4,748 B]\n",
      "Get:115 http://archive.ubuntu.com/ubuntu focal-updates/main amd64 liblz4-dev amd64 1.9.2-2ubuntu0.20.04.1 [74.9 kB]\n",
      "Get:116 http://archive.ubuntu.com/ubuntu focal/universe amd64 libflann-dev amd64 1.9.1+dfsg-9build1 [657 kB]\n",
      "Get:117 http://archive.ubuntu.com/ubuntu focal/universe amd64 libglew2.1 amd64 2.1.0-4 [155 kB]\n",
      "Get:118 http://archive.ubuntu.com/ubuntu focal/main amd64 libglu1-mesa-dev amd64 9.0.1-1build1 [207 kB]\n",
      "Get:119 http://archive.ubuntu.com/ubuntu focal/universe amd64 libglew-dev amd64 2.1.0-4 [134 kB]\n",
      "Get:120 http://archive.ubuntu.com/ubuntu focal/universe amd64 libgtest-dev amd64 1.10.0-2 [1,583 kB]\n",
      "Get:121 http://archive.ubuntu.com/ubuntu focal/universe amd64 libilmbase24 amd64 2.3.0-6build1 [75.1 kB]\n",
      "Get:122 http://archive.ubuntu.com/ubuntu focal/universe amd64 libjxr0 amd64 1.1-6build1 [158 kB]\n",
      "Get:123 http://archive.ubuntu.com/ubuntu focal/main amd64 libmetis-dev amd64 5.1.0.dfsg-5 [5,794 B]\n",
      "Get:124 http://archive.ubuntu.com/ubuntu focal-updates/universe amd64 libopenexr24 amd64 2.3.0-6ubuntu0.5 [592 kB]\n",
      "Get:125 http://archive.ubuntu.com/ubuntu focal/universe amd64 libqt5concurrent5 amd64 5.12.8+dfsg-0ubuntu1 [33.5 kB]\n",
      "Get:126 http://archive.ubuntu.com/ubuntu focal/universe amd64 libqt5opengl5 amd64 5.12.8+dfsg-0ubuntu1 [136 kB]\n",
      "Get:127 http://archive.ubuntu.com/ubuntu focal/universe amd64 libqt5sql5 amd64 5.12.8+dfsg-0ubuntu1 [121 kB]\n",
      "Get:128 http://archive.ubuntu.com/ubuntu focal/universe amd64 libqt5test5 amd64 5.12.8+dfsg-0ubuntu1 [131 kB]\n",
      "Get:129 http://archive.ubuntu.com/ubuntu focal/main amd64 libvulkan-dev amd64 1.2.131.2-1 [482 kB]\n",
      "Get:130 http://archive.ubuntu.com/ubuntu focal/universe amd64 qt5-qmake-bin amd64 5.12.8+dfsg-0ubuntu1 [990 kB]\n",
      "Get:131 http://archive.ubuntu.com/ubuntu focal/universe amd64 qtchooser amd64 66-2build1 [24.7 kB]\n",
      "Get:132 http://archive.ubuntu.com/ubuntu focal/universe amd64 qt5-qmake amd64 5.12.8+dfsg-0ubuntu1 [189 kB]\n",
      "Get:133 http://archive.ubuntu.com/ubuntu focal/universe amd64 qtbase5-dev-tools amd64 5.12.8+dfsg-0ubuntu1 [700 kB]\n",
      "Get:134 http://archive.ubuntu.com/ubuntu focal/universe amd64 qtbase5-dev amd64 5.12.8+dfsg-0ubuntu1 [991 kB]\n",
      "Get:135 http://archive.ubuntu.com/ubuntu focal/universe amd64 libqt5opengl5-dev amd64 5.12.8+dfsg-0ubuntu1 [39.8 kB]\n",
      "Get:136 http://archive.ubuntu.com/ubuntu focal/universe amd64 libqt5sql5-sqlite amd64 5.12.8+dfsg-0ubuntu1 [47.5 kB]\n",
      "Get:137 http://archive.ubuntu.com/ubuntu focal/main amd64 libraw19 amd64 0.19.5-1ubuntu1 [260 kB]\n",
      "Ign:138 http://archive.ubuntu.com/ubuntu focal-updates/main amd64 libsqlite3-dev amd64 3.31.1-4ubuntu0.2\n",
      "Get:139 http://archive.ubuntu.com/ubuntu focal/universe amd64 ninja-build amd64 1.10.0-1build1 [107 kB]\n",
      "Get:140 http://archive.ubuntu.com/ubuntu focal/universe amd64 libfreeimage3 amd64 3.18.0+ds2-1ubuntu3 [269 kB]\n",
      "Get:141 http://archive.ubuntu.com/ubuntu focal/universe amd64 libfreeimage-dev amd64 3.18.0+ds2-1ubuntu3 [18.8 kB]\n",
      "Err:138 http://security.ubuntu.com/ubuntu focal-updates/main amd64 libsqlite3-dev amd64 3.31.1-4ubuntu0.2\n",
      "  404  Not Found [IP: 91.189.91.81 80]\n",
      "Fetched 93.5 MB in 4s (23.9 MB/s)\n",
      "E: Failed to fetch http://security.ubuntu.com/ubuntu/pool/main/g/gcc-10/libgfortran5_10.3.0-1ubuntu1~20.04_amd64.deb  404  Not Found [IP: 91.189.91.81 80]\n",
      "E: Failed to fetch http://security.ubuntu.com/ubuntu/pool/main/g/gcc-9/libgfortran-9-dev_9.3.0-17ubuntu1~20.04_amd64.deb  404  Not Found [IP: 91.189.91.81 80]\n",
      "E: Failed to fetch http://security.ubuntu.com/ubuntu/pool/main/g/gcc-9/gfortran-9_9.3.0-17ubuntu1~20.04_amd64.deb  404  Not Found [IP: 91.189.91.81 80]\n",
      "E: Failed to fetch http://archive.ubuntu.com/ubuntu/pool/main/n/nvidia-settings/libxnvctrl0_470.57.01-0ubuntu0.20.04.2_amd64.deb  404  Not Found [IP: 91.189.91.81 80]\n",
      "E: Failed to fetch http://security.ubuntu.com/ubuntu/pool/main/libj/libjpeg-turbo/libjpeg-turbo8-dev_2.0.3-0ubuntu1.20.04.1_amd64.deb  404  Not Found [IP: 91.189.91.81 80]\n",
      "E: Failed to fetch http://security.ubuntu.com/ubuntu/pool/main/s/sqlite3/libsqlite3-dev_3.31.1-4ubuntu0.2_amd64.deb  404  Not Found [IP: 91.189.91.81 80]\n",
      "E: Unable to fetch some archives, maybe run apt-get update or try with --fix-missing?\n"
     ]
    }
   ],
   "source": [
    "!sudo apt-get -y install \\\n",
    "    git \\\n",
    "    cmake \\\n",
    "    ninja-build \\\n",
    "    build-essential \\\n",
    "    libboost-program-options-dev \\\n",
    "    libboost-filesystem-dev \\\n",
    "    libboost-graph-dev \\\n",
    "    libboost-system-dev \\\n",
    "    libeigen3-dev \\\n",
    "    libflann-dev \\\n",
    "    libfreeimage-dev \\\n",
    "    libmetis-dev \\\n",
    "    libgoogle-glog-dev \\\n",
    "    libgtest-dev \\\n",
    "    libsqlite3-dev \\\n",
    "    libglew-dev \\\n",
    "    qtbase5-dev \\\n",
    "    libqt5opengl5-dev \\\n",
    "    libcgal-dev \\\n",
    "    libceres-dev"
   ]
  },
  {
   "cell_type": "code",
   "execution_count": 2,
   "id": "eab75343",
   "metadata": {},
   "outputs": [
    {
     "data": {
      "text/plain": [
       "'/aiffel/aiffel/Aifflethon/Volumetric/colmap'"
      ]
     },
     "execution_count": 2,
     "metadata": {},
     "output_type": "execute_result"
    }
   ],
   "source": [
    "import os\n",
    "os.chdir(\"colmap\")\n",
    "os.getcwd()"
   ]
  },
  {
   "cell_type": "code",
   "execution_count": 3,
   "id": "816cb6e0",
   "metadata": {},
   "outputs": [
    {
     "name": "stdout",
     "output_type": "stream",
     "text": [
      "Reading package lists... Done\n",
      "Building dependency tree       \n",
      "Reading state information... Done\n",
      "libxext-dev is already the newest version (2:1.3.4-0ubuntu1).\n",
      "libxext-dev set to manually installed.\n",
      "libx11-dev is already the newest version (2:1.6.9-2ubuntu1.2).\n",
      "libx11-dev set to manually installed.\n",
      "The following packages were automatically installed and are no longer required:\n",
      "  accountsservice-ubuntu-schemas bc bluez-obexd cups cups-browsed cups-client\n",
      "  cups-common cups-core-drivers cups-daemon cups-filters\n",
      "  cups-filters-core-drivers cups-ipp-utils cups-ppdc cups-server-common\n",
      "  fonts-droid-fallback fonts-noto-mono fonts-urw-base35 ghostscript\n",
      "  gir1.2-dbusmenu-glib-0.4 gnome-bluetooth gnome-power-manager\n",
      "  gnome-screensaver gsettings-ubuntu-schemas gvfs-backends indicator-applet\n",
      "  indicator-application indicator-appmenu indicator-bluetooth indicator-common\n",
      "  indicator-datetime indicator-keyboard indicator-messages indicator-power\n",
      "  indicator-printers indicator-session indicator-sound jayatana\n",
      "  libaccounts-glib0 libbamf3-2 libcdio-cdda2 libcdio-paranoia2 libcdio18\n",
      "  libcupsfilters1 libfcitx-config4 libfcitx-gclient1 libfcitx-utils0\n",
      "  libfontembed1 libgnome-panel0 libgs9 libgs9-common libido3-0.1-0 libijs-0.35\n",
      "  libindicator3-7 libjbig2dec0 liblightdm-gobject-1-0 liblouis-data liblouis20\n",
      "  liblouisutdml-bin liblouisutdml-data liblouisutdml9 libmessaging-menu0\n",
      "  libmtp-common libmtp-runtime libmtp9 libnfs13 libpaper-utils libpaper1\n",
      "  libpoppler-cpp0v5 libqpdf26 libunity-gtk2-parser0 libunity-gtk3-parser0\n",
      "  libunity-settings-daemon1 liburl-dispatcher1 lightdm nautilus-data\n",
      "  poppler-utils python3-psutil python3-xdg ssl-cert ubuntu-touch-sounds\n",
      "  unity-greeter unity-gtk-module-common unity-gtk2-module unity-gtk3-module\n",
      "  unity-settings-daemon unity-settings-daemon-schemas\n",
      "Use 'sudo apt autoremove' to remove them.\n",
      "The following NEW packages will be installed:\n",
      "  x11proto-gl-dev\n",
      "0 upgraded, 1 newly installed, 0 to remove and 0 not upgraded.\n",
      "Need to get 2,620 B of archives.\n",
      "After this operation, 11.3 kB of additional disk space will be used.\n",
      "Get:1 http://archive.ubuntu.com/ubuntu focal/main amd64 x11proto-gl-dev all 2019.2-1ubuntu1 [2,620 B]\n",
      "Fetched 2,620 B in 0s (17.1 kB/s)           \n",
      "debconf: unable to initialize frontend: Dialog\n",
      "debconf: (No usable dialog-like program is installed, so the dialog based frontend cannot be used. at /usr/share/perl5/Debconf/FrontEnd/Dialog.pm line 76, <> line 1.)\n",
      "debconf: falling back to frontend: Readline\n",
      "Selecting previously unselected package x11proto-gl-dev.\n",
      "(Reading database ... 89804 files and directories currently installed.)\n",
      "Preparing to unpack .../x11proto-gl-dev_2019.2-1ubuntu1_all.deb ...\n",
      "Unpacking x11proto-gl-dev (2019.2-1ubuntu1) ...\n",
      "Setting up x11proto-gl-dev (2019.2-1ubuntu1) ...\n"
     ]
    }
   ],
   "source": [
    "!sudo apt-get install -y libxext-dev libx11-dev x11proto-gl-dev"
   ]
  },
  {
   "cell_type": "code",
   "execution_count": 4,
   "id": "9a23eb30",
   "metadata": {},
   "outputs": [
    {
     "data": {
      "text/plain": [
       "'/aiffel/aiffel/Aifflethon/Volumetric/colmap/libglvnd'"
      ]
     },
     "execution_count": 4,
     "metadata": {},
     "output_type": "execute_result"
    }
   ],
   "source": [
    "os.chdir(\"libglvnd\")\n",
    "os.getcwd()"
   ]
  },
  {
   "cell_type": "code",
   "execution_count": 5,
   "id": "e4e3b135",
   "metadata": {},
   "outputs": [
    {
     "name": "stdout",
     "output_type": "stream",
     "text": [
      "Reading package lists... Done\n",
      "Building dependency tree       \n",
      "Reading state information... Done\n",
      "autoconf is already the newest version (2.69-11.1).\n",
      "autoconf set to manually installed.\n",
      "automake is already the newest version (1:1.16.1-4ubuntu6).\n",
      "libtool is already the newest version (2.4.6-14).\n",
      "libtool set to manually installed.\n",
      "The following packages were automatically installed and are no longer required:\n",
      "  accountsservice-ubuntu-schemas bc bluez-obexd cups cups-browsed cups-client\n",
      "  cups-common cups-core-drivers cups-daemon cups-filters\n",
      "  cups-filters-core-drivers cups-ipp-utils cups-ppdc cups-server-common\n",
      "  fonts-droid-fallback fonts-noto-mono fonts-urw-base35 ghostscript\n",
      "  gir1.2-dbusmenu-glib-0.4 gnome-bluetooth gnome-power-manager\n",
      "  gnome-screensaver gsettings-ubuntu-schemas gvfs-backends indicator-applet\n",
      "  indicator-application indicator-appmenu indicator-bluetooth indicator-common\n",
      "  indicator-datetime indicator-keyboard indicator-messages indicator-power\n",
      "  indicator-printers indicator-session indicator-sound jayatana\n",
      "  libaccounts-glib0 libbamf3-2 libcdio-cdda2 libcdio-paranoia2 libcdio18\n",
      "  libcupsfilters1 libfcitx-config4 libfcitx-gclient1 libfcitx-utils0\n",
      "  libfontembed1 libgnome-panel0 libgs9 libgs9-common libido3-0.1-0 libijs-0.35\n",
      "  libindicator3-7 libjbig2dec0 liblightdm-gobject-1-0 liblouis-data liblouis20\n",
      "  liblouisutdml-bin liblouisutdml-data liblouisutdml9 libmessaging-menu0\n",
      "  libmtp-common libmtp-runtime libmtp9 libnfs13 libpaper-utils libpaper1\n",
      "  libpoppler-cpp0v5 libqpdf26 libunity-gtk2-parser0 libunity-gtk3-parser0\n",
      "  libunity-settings-daemon1 liburl-dispatcher1 lightdm nautilus-data\n",
      "  poppler-utils python3-psutil python3-xdg ssl-cert ubuntu-touch-sounds\n",
      "  unity-greeter unity-gtk-module-common unity-gtk2-module unity-gtk3-module\n",
      "  unity-settings-daemon unity-settings-daemon-schemas\n",
      "Use 'sudo apt autoremove' to remove them.\n",
      "0 upgraded, 0 newly installed, 0 to remove and 0 not upgraded.\n"
     ]
    }
   ],
   "source": [
    "!sudo apt-get install -y autoconf automake libtool"
   ]
  },
  {
   "cell_type": "code",
   "execution_count": 6,
   "id": "995d4485",
   "metadata": {},
   "outputs": [
    {
     "name": "stdout",
     "output_type": "stream",
     "text": [
      "Reading package lists... Done\n",
      "Building dependency tree       \n",
      "Reading state information... Done\n",
      "libffi-dev is already the newest version (3.3-4).\n",
      "libffi-dev set to manually installed.\n",
      "The following packages were automatically installed and are no longer required:\n",
      "  accountsservice-ubuntu-schemas bc bluez-obexd cups cups-browsed cups-client\n",
      "  cups-common cups-core-drivers cups-daemon cups-filters\n",
      "  cups-filters-core-drivers cups-ipp-utils cups-ppdc cups-server-common\n",
      "  fonts-droid-fallback fonts-noto-mono fonts-urw-base35 ghostscript\n",
      "  gir1.2-dbusmenu-glib-0.4 gnome-bluetooth gnome-power-manager\n",
      "  gnome-screensaver gsettings-ubuntu-schemas gvfs-backends indicator-applet\n",
      "  indicator-application indicator-appmenu indicator-bluetooth indicator-common\n",
      "  indicator-datetime indicator-keyboard indicator-messages indicator-power\n",
      "  indicator-printers indicator-session indicator-sound jayatana\n",
      "  libaccounts-glib0 libbamf3-2 libcdio-cdda2 libcdio-paranoia2 libcdio18\n",
      "  libcupsfilters1 libfcitx-config4 libfcitx-gclient1 libfcitx-utils0\n",
      "  libfontembed1 libgnome-panel0 libgs9 libgs9-common libido3-0.1-0 libijs-0.35\n",
      "  libindicator3-7 libjbig2dec0 liblightdm-gobject-1-0 liblouis-data liblouis20\n",
      "  liblouisutdml-bin liblouisutdml-data liblouisutdml9 libmessaging-menu0\n",
      "  libmtp-common libmtp-runtime libmtp9 libnfs13 libpaper-utils libpaper1\n",
      "  libpoppler-cpp0v5 libqpdf26 libunity-gtk2-parser0 libunity-gtk3-parser0\n",
      "  libunity-settings-daemon1 liburl-dispatcher1 lightdm nautilus-data\n",
      "  poppler-utils python3-psutil python3-xdg ssl-cert ubuntu-touch-sounds\n",
      "  unity-greeter unity-gtk-module-common unity-gtk2-module unity-gtk3-module\n",
      "  unity-settings-daemon unity-settings-daemon-schemas\n",
      "Use 'sudo apt autoremove' to remove them.\n",
      "0 upgraded, 0 newly installed, 0 to remove and 0 not upgraded.\n"
     ]
    }
   ],
   "source": [
    "!sudo apt-get install -y libffi-dev"
   ]
  },
  {
   "cell_type": "code",
   "execution_count": 9,
   "id": "8cadd7e7",
   "metadata": {},
   "outputs": [
    {
     "name": "stdout",
     "output_type": "stream",
     "text": [
      "make  all-recursive\n",
      "make[1]: Entering directory '/aiffel/aiffel/Aifflethon/Volumetric/colmap/libglvnd'\n",
      "Making all in src\n",
      "make[2]: Entering directory '/aiffel/aiffel/Aifflethon/Volumetric/colmap/libglvnd/src'\n",
      "Making all in util\n",
      "make[3]: Entering directory '/aiffel/aiffel/Aifflethon/Volumetric/colmap/libglvnd/src/util'\n",
      "make[3]: Nothing to be done for 'all'.\n",
      "make[3]: Leaving directory '/aiffel/aiffel/Aifflethon/Volumetric/colmap/libglvnd/src/util'\n",
      "Making all in GLdispatch\n",
      "make[3]: Entering directory '/aiffel/aiffel/Aifflethon/Volumetric/colmap/libglvnd/src/GLdispatch'\n",
      "Making all in vnd-glapi\n",
      "make[4]: Entering directory '/aiffel/aiffel/Aifflethon/Volumetric/colmap/libglvnd/src/GLdispatch/vnd-glapi'\n",
      "make  all-am\n",
      "make[5]: Entering directory '/aiffel/aiffel/Aifflethon/Volumetric/colmap/libglvnd/src/GLdispatch/vnd-glapi'\n",
      "  CCLD     libglapi.la\n",
      "  CCLD     libglapi_opengl.la\n",
      "  CCLD     libglapi_glesv1.la\n",
      "  CCLD     libglapi_glesv2.la\n",
      "ar: /aiffel/aiffel/Aifflethon/Volumetric/colmap/libglvnd/src/GLdispatch/vnd-glapi/../../../src/util/.libs/libutils_misc.a: No such file or directory\n",
      "make[5]: *** [Makefile:750: libglapi.la] Error 9\n",
      "make[5]: *** Waiting for unfinished jobs....\n",
      "make[5]: Leaving directory '/aiffel/aiffel/Aifflethon/Volumetric/colmap/libglvnd/src/GLdispatch/vnd-glapi'\n",
      "make[4]: *** [Makefile:703: all] Error 2\n",
      "make[4]: Leaving directory '/aiffel/aiffel/Aifflethon/Volumetric/colmap/libglvnd/src/GLdispatch/vnd-glapi'\n",
      "make[3]: *** [Makefile:580: all-recursive] Error 1\n",
      "make[3]: Leaving directory '/aiffel/aiffel/Aifflethon/Volumetric/colmap/libglvnd/src/GLdispatch'\n",
      "make[2]: *** [Makefile:403: all-recursive] Error 1\n",
      "make[2]: Leaving directory '/aiffel/aiffel/Aifflethon/Volumetric/colmap/libglvnd/src'\n",
      "make[1]: *** [Makefile:495: all-recursive] Error 1\n",
      "make[1]: Leaving directory '/aiffel/aiffel/Aifflethon/Volumetric/colmap/libglvnd'\n",
      "make: *** [Makefile:404: all] Error 2\n"
     ]
    }
   ],
   "source": [
    "!make  -j4"
   ]
  },
  {
   "cell_type": "code",
   "execution_count": 10,
   "id": "bfeec2ff",
   "metadata": {},
   "outputs": [
    {
     "name": "stdout",
     "output_type": "stream",
     "text": [
      "Making install in src\n",
      "make[1]: Entering directory '/aiffel/aiffel/Aifflethon/Volumetric/colmap/libglvnd/src'\n",
      "Making install in util\n",
      "make[2]: Entering directory '/aiffel/aiffel/Aifflethon/Volumetric/colmap/libglvnd/src/util'\n",
      "make[3]: Entering directory '/aiffel/aiffel/Aifflethon/Volumetric/colmap/libglvnd/src/util'\n",
      "make[3]: Nothing to be done for 'install-exec-am'.\n",
      "make[3]: Nothing to be done for 'install-data-am'.\n",
      "make[3]: Leaving directory '/aiffel/aiffel/Aifflethon/Volumetric/colmap/libglvnd/src/util'\n",
      "make[2]: Leaving directory '/aiffel/aiffel/Aifflethon/Volumetric/colmap/libglvnd/src/util'\n",
      "Making install in GLdispatch\n",
      "make[2]: Entering directory '/aiffel/aiffel/Aifflethon/Volumetric/colmap/libglvnd/src/GLdispatch'\n",
      "Making install in vnd-glapi\n",
      "make[3]: Entering directory '/aiffel/aiffel/Aifflethon/Volumetric/colmap/libglvnd/src/GLdispatch/vnd-glapi'\n",
      "make  install-am\n",
      "make[4]: Entering directory '/aiffel/aiffel/Aifflethon/Volumetric/colmap/libglvnd/src/GLdispatch/vnd-glapi'\n",
      "  CCLD     libglapi.la\n",
      "ar: /aiffel/aiffel/Aifflethon/Volumetric/colmap/libglvnd/src/GLdispatch/vnd-glapi/../../../src/util/.libs/libutils_misc.a: No such file or directory\n",
      "make[4]: *** [Makefile:750: libglapi.la] Error 9\n",
      "make[4]: Leaving directory '/aiffel/aiffel/Aifflethon/Volumetric/colmap/libglvnd/src/GLdispatch/vnd-glapi'\n",
      "make[3]: *** [Makefile:1447: install] Error 2\n",
      "make[3]: Leaving directory '/aiffel/aiffel/Aifflethon/Volumetric/colmap/libglvnd/src/GLdispatch/vnd-glapi'\n",
      "make[2]: *** [Makefile:580: install-recursive] Error 1\n",
      "make[2]: Leaving directory '/aiffel/aiffel/Aifflethon/Volumetric/colmap/libglvnd/src/GLdispatch'\n",
      "make[1]: *** [Makefile:403: install-recursive] Error 1\n",
      "make[1]: Leaving directory '/aiffel/aiffel/Aifflethon/Volumetric/colmap/libglvnd/src'\n",
      "make: *** [Makefile:495: install-recursive] Error 1\n"
     ]
    }
   ],
   "source": [
    "!sudo make install"
   ]
  },
  {
   "cell_type": "code",
   "execution_count": 11,
   "id": "52dacbcf",
   "metadata": {},
   "outputs": [
    {
     "name": "stdout",
     "output_type": "stream",
     "text": [
      "/bin/bash: ninja: command not found\r\n"
     ]
    }
   ],
   "source": [
    "!ninja"
   ]
  },
  {
   "cell_type": "code",
   "execution_count": 12,
   "id": "11339d23",
   "metadata": {},
   "outputs": [
    {
     "name": "stdout",
     "output_type": "stream",
     "text": [
      "sudo: ninja: command not found\r\n"
     ]
    }
   ],
   "source": [
    "!sudo ninja install"
   ]
  },
  {
   "cell_type": "code",
   "execution_count": 13,
   "id": "75575aff",
   "metadata": {},
   "outputs": [
    {
     "name": "stdout",
     "output_type": "stream",
     "text": [
      "/bin/bash: colmap: command not found\r\n"
     ]
    }
   ],
   "source": [
    "!colmap -h"
   ]
  },
  {
   "cell_type": "code",
   "execution_count": 14,
   "id": "ae541e5a",
   "metadata": {},
   "outputs": [
    {
     "name": "stdout",
     "output_type": "stream",
     "text": [
      "Reading package lists... Done\n",
      "Building dependency tree       \n",
      "Reading state information... Done\n",
      "The following packages were automatically installed and are no longer required:\n",
      "  accountsservice-ubuntu-schemas bc bluez-obexd cups cups-browsed cups-client\n",
      "  cups-common cups-core-drivers cups-daemon cups-filters\n",
      "  cups-filters-core-drivers cups-ipp-utils cups-ppdc cups-server-common\n",
      "  fonts-droid-fallback fonts-noto-mono fonts-urw-base35 ghostscript\n",
      "  gir1.2-dbusmenu-glib-0.4 gnome-bluetooth gnome-power-manager\n",
      "  gnome-screensaver gsettings-ubuntu-schemas gvfs-backends indicator-applet\n",
      "  indicator-application indicator-appmenu indicator-bluetooth indicator-common\n",
      "  indicator-datetime indicator-keyboard indicator-messages indicator-power\n",
      "  indicator-printers indicator-session indicator-sound jayatana\n",
      "  libaccounts-glib0 libbamf3-2 libcdio-cdda2 libcdio-paranoia2 libcdio18\n",
      "  libcupsfilters1 libfcitx-config4 libfcitx-gclient1 libfcitx-utils0\n",
      "  libfontembed1 libgnome-panel0 libgs9 libgs9-common libido3-0.1-0 libijs-0.35\n",
      "  libindicator3-7 libjbig2dec0 liblightdm-gobject-1-0 liblouis-data liblouis20\n",
      "  liblouisutdml-bin liblouisutdml-data liblouisutdml9 libmessaging-menu0\n",
      "  libmtp-common libmtp-runtime libmtp9 libnfs13 libpaper-utils libpaper1\n",
      "  libpoppler-cpp0v5 libqpdf26 libunity-gtk2-parser0 libunity-gtk3-parser0\n",
      "  libunity-settings-daemon1 liburl-dispatcher1 lightdm nautilus-data\n",
      "  poppler-utils python3-psutil python3-xdg ssl-cert ubuntu-touch-sounds\n",
      "  unity-greeter unity-gtk-module-common unity-gtk2-module unity-gtk3-module\n",
      "  unity-settings-daemon unity-settings-daemon-schemas\n",
      "Use 'sudo apt autoremove' to remove them.\n",
      "The following additional packages will be installed:\n",
      "  cpp-8 g++-8 gcc-8 gcc-8-base javascript-common libaccinj64-10.1 libcublas10\n",
      "  libcublaslt10 libcudart10.1 libcufft10 libcufftw10 libcuinj64-10.1\n",
      "  libcupti-dev libcupti-doc libcupti10.1 libcurand10 libcusolver10\n",
      "  libcusolvermg10 libcusparse10 libgcc-8-dev libjs-jquery libjs-underscore\n",
      "  libmpx2 libncurses5 libnppc10 libnppial10 libnppicc10 libnppicom10\n",
      "  libnppidei10 libnppif10 libnppig10 libnppim10 libnppist10 libnppisu10\n",
      "  libnppitc10 libnpps10 libnvblas10 libnvgraph10 libnvidia-compute-460-server\n",
      "  libnvidia-ml-dev libnvjpeg10 libnvrtc10.1 libnvtoolsext1 libnvvm3\n",
      "  libstdc++-8-dev libthrust-dev libtinfo5 libvdpau-dev libvdpau1\n",
      "  mesa-vdpau-drivers node-html5shiv nsight-compute nsight-systems\n",
      "  nvidia-cuda-dev nvidia-cuda-doc nvidia-cuda-gdb nvidia-opencl-dev\n",
      "  nvidia-profiler nvidia-visual-profiler ocl-icd-libopencl1 ocl-icd-opencl-dev\n",
      "  opencl-c-headers vdpau-driver-all\n",
      "Suggested packages:\n",
      "  gcc-8-locales g++-8-multilib gcc-8-doc gcc-8-multilib apache2 | lighttpd\n",
      "  | httpd libstdc++-8-doc libvdpau-doc nodejs nvidia-driver\n",
      "  | nvidia-tesla-440-driver | nvidia-tesla-418-driver libpoclu-dev\n",
      "  libvdpau-va-gl1 nvidia-vdpau-driver nvidia-legacy-340xx-vdpau-driver\n",
      "  nvidia-legacy-304xx-vdpau-driver\n",
      "Recommended packages:\n",
      "  libnvcuvid1\n",
      "The following NEW packages will be installed:\n",
      "  cpp-8 g++-8 gcc-8 gcc-8-base javascript-common libaccinj64-10.1 libcublas10\n",
      "  libcublaslt10 libcudart10.1 libcufft10 libcufftw10 libcuinj64-10.1\n",
      "  libcupti-dev libcupti-doc libcupti10.1 libcurand10 libcusolver10\n",
      "  libcusolvermg10 libcusparse10 libgcc-8-dev libjs-jquery libjs-underscore\n",
      "  libmpx2 libncurses5 libnppc10 libnppial10 libnppicc10 libnppicom10\n",
      "  libnppidei10 libnppif10 libnppig10 libnppim10 libnppist10 libnppisu10\n",
      "  libnppitc10 libnpps10 libnvblas10 libnvgraph10 libnvidia-compute-460-server\n",
      "  libnvidia-ml-dev libnvjpeg10 libnvrtc10.1 libnvtoolsext1 libnvvm3\n",
      "  libstdc++-8-dev libthrust-dev libtinfo5 libvdpau-dev libvdpau1\n",
      "  mesa-vdpau-drivers node-html5shiv nsight-compute nsight-systems\n",
      "  nvidia-cuda-dev nvidia-cuda-doc nvidia-cuda-gdb nvidia-cuda-toolkit\n",
      "  nvidia-cuda-toolkit-gcc nvidia-opencl-dev nvidia-profiler\n",
      "  nvidia-visual-profiler ocl-icd-libopencl1 ocl-icd-opencl-dev\n",
      "  opencl-c-headers vdpau-driver-all\n",
      "0 upgraded, 65 newly installed, 0 to remove and 0 not upgraded.\n",
      "Need to get 1,425 MB of archives.\n",
      "After this operation, 3,862 MB of additional disk space will be used.\n",
      "Get:1 http://archive.ubuntu.com/ubuntu focal/universe amd64 gcc-8-base amd64 8.4.0-3ubuntu2 [18.7 kB]\n",
      "Get:2 http://archive.ubuntu.com/ubuntu focal/universe amd64 cpp-8 amd64 8.4.0-3ubuntu2 [8,945 kB]\n",
      "Get:3 http://archive.ubuntu.com/ubuntu focal/universe amd64 libmpx2 amd64 8.4.0-3ubuntu2 [11.8 kB]\n",
      "Get:4 http://archive.ubuntu.com/ubuntu focal/universe amd64 libgcc-8-dev amd64 8.4.0-3ubuntu2 [2,313 kB]\n",
      "Get:5 http://archive.ubuntu.com/ubuntu focal/universe amd64 gcc-8 amd64 8.4.0-3ubuntu2 [9,833 kB]\n",
      "Get:6 http://archive.ubuntu.com/ubuntu focal/universe amd64 libstdc++-8-dev amd64 8.4.0-3ubuntu2 [1,537 kB]\n",
      "Get:7 http://archive.ubuntu.com/ubuntu focal/universe amd64 g++-8 amd64 8.4.0-3ubuntu2 [10.1 MB]\n",
      "Get:8 http://archive.ubuntu.com/ubuntu focal/main amd64 javascript-common all 11 [6,066 B]\n",
      "Get:9 http://archive.ubuntu.com/ubuntu focal/multiverse amd64 libaccinj64-10.1 amd64 10.1.243-3 [1,893 kB]\n",
      "Get:10 http://archive.ubuntu.com/ubuntu focal/multiverse amd64 libcublaslt10 amd64 10.1.243-3 [9,249 kB]\n",
      "Get:11 http://archive.ubuntu.com/ubuntu focal/multiverse amd64 libcublas10 amd64 10.1.243-3 [29.7 MB]\n",
      "Get:12 http://archive.ubuntu.com/ubuntu focal/multiverse amd64 libcudart10.1 amd64 10.1.243-3 [125 kB]\n",
      "Get:13 http://archive.ubuntu.com/ubuntu focal/multiverse amd64 libcufft10 amd64 10.1.243-3 [85.3 MB]\n",
      "Get:14 http://archive.ubuntu.com/ubuntu focal/multiverse amd64 libcufftw10 amd64 10.1.243-3 [124 kB]\n",
      "Err:15 http://archive.ubuntu.com/ubuntu focal-updates/multiverse amd64 libnvidia-compute-460-server amd64 460.106.00-0ubuntu0.20.04.1\n",
      "  404  Not Found [IP: 91.189.91.83 80]\n",
      "Get:16 http://archive.ubuntu.com/ubuntu focal/multiverse amd64 libcuinj64-10.1 amd64 10.1.243-3 [2,030 kB]\n",
      "Get:17 http://archive.ubuntu.com/ubuntu focal/multiverse amd64 libcupti10.1 amd64 10.1.243-3 [4,311 kB]\n",
      "Get:18 http://archive.ubuntu.com/ubuntu focal/multiverse amd64 libcurand10 amd64 10.1.243-3 [39.0 MB]\n",
      "Get:19 http://archive.ubuntu.com/ubuntu focal/multiverse amd64 libcusolver10 amd64 10.1.243-3 [44.5 MB]\n",
      "Get:20 http://archive.ubuntu.com/ubuntu focal/multiverse amd64 libcusolvermg10 amd64 10.1.243-3 [28.1 MB]\n",
      "Get:21 http://archive.ubuntu.com/ubuntu focal/multiverse amd64 libcusparse10 amd64 10.1.243-3 [56.8 MB]\n",
      "Get:22 http://archive.ubuntu.com/ubuntu focal/main amd64 libjs-jquery all 3.3.1~dfsg-3 [329 kB]\n",
      "Get:23 http://archive.ubuntu.com/ubuntu focal-updates/main amd64 libjs-underscore all 1.9.1~dfsg-1ubuntu0.20.04.1 [99.5 kB]\n",
      "Get:24 http://archive.ubuntu.com/ubuntu focal/universe amd64 libtinfo5 amd64 6.2-0ubuntu2 [83.0 kB]\n",
      "Get:25 http://archive.ubuntu.com/ubuntu focal/universe amd64 libncurses5 amd64 6.2-0ubuntu2 [96.9 kB]\n",
      "Get:26 http://archive.ubuntu.com/ubuntu focal/multiverse amd64 libnppc10 amd64 10.1.243-3 [123 kB]\n",
      "Get:27 http://archive.ubuntu.com/ubuntu focal/multiverse amd64 libnppial10 amd64 10.1.243-3 [3,667 kB]\n",
      "Get:28 http://archive.ubuntu.com/ubuntu focal/multiverse amd64 libnppicc10 amd64 10.1.243-3 [1,621 kB]\n",
      "Get:29 http://archive.ubuntu.com/ubuntu focal/multiverse amd64 libnppicom10 amd64 10.1.243-3 [539 kB]\n",
      "Get:30 http://archive.ubuntu.com/ubuntu focal/multiverse amd64 libnppidei10 amd64 10.1.243-3 [2,001 kB]\n",
      "Get:31 http://archive.ubuntu.com/ubuntu focal/multiverse amd64 libnppif10 amd64 10.1.243-3 [22.0 MB]\n",
      "Get:32 http://archive.ubuntu.com/ubuntu focal/multiverse amd64 libnppig10 amd64 10.1.243-3 [12.0 MB]\n",
      "Get:33 http://archive.ubuntu.com/ubuntu focal/multiverse amd64 libnppim10 amd64 10.1.243-3 [2,694 kB]\n",
      "Get:34 http://archive.ubuntu.com/ubuntu focal/multiverse amd64 libnppist10 amd64 10.1.243-3 [7,313 kB]\n",
      "Get:35 http://archive.ubuntu.com/ubuntu focal/multiverse amd64 libnppisu10 amd64 10.1.243-3 [116 kB]\n",
      "Get:36 http://archive.ubuntu.com/ubuntu focal/multiverse amd64 libnppitc10 amd64 10.1.243-3 [802 kB]\n",
      "Get:37 http://archive.ubuntu.com/ubuntu focal/multiverse amd64 libnpps10 amd64 10.1.243-3 [2,970 kB]\n",
      "Get:38 http://archive.ubuntu.com/ubuntu focal/multiverse amd64 libnvblas10 amd64 10.1.243-3 [129 kB]\n",
      "Get:39 http://archive.ubuntu.com/ubuntu focal/multiverse amd64 libnvgraph10 amd64 10.1.243-3 [44.5 MB]\n",
      "Get:40 http://archive.ubuntu.com/ubuntu focal/multiverse amd64 libnvidia-ml-dev amd64 10.1.243-3 [58.1 kB]\n",
      "Get:41 http://archive.ubuntu.com/ubuntu focal/multiverse amd64 libnvjpeg10 amd64 10.1.243-3 [1,227 kB]\n",
      "Get:42 http://archive.ubuntu.com/ubuntu focal/multiverse amd64 libnvrtc10.1 amd64 10.1.243-3 [6,307 kB]\n",
      "Get:43 http://archive.ubuntu.com/ubuntu focal/main amd64 libvdpau1 amd64 1.3-1ubuntu2 [25.6 kB]\n",
      "Get:44 http://archive.ubuntu.com/ubuntu focal/main amd64 libvdpau-dev amd64 1.3-1ubuntu2 [37.3 kB]\n",
      "Err:45 http://archive.ubuntu.com/ubuntu focal-updates/main amd64 mesa-vdpau-drivers amd64 21.0.3-0ubuntu0.3~20.04.5\n",
      "  404  Not Found [IP: 91.189.91.83 80]\n",
      "Get:46 http://archive.ubuntu.com/ubuntu focal/universe amd64 node-html5shiv all 3.7.3+dfsg-3 [12.9 kB]\n",
      "Get:47 http://archive.ubuntu.com/ubuntu focal/multiverse amd64 nsight-compute amd64 10.1.243-3 [196 MB]\n",
      "Get:48 http://archive.ubuntu.com/ubuntu focal/multiverse amd64 nsight-systems amd64 10.1.243-3 [71.4 MB]\n",
      "Get:49 http://archive.ubuntu.com/ubuntu focal/multiverse amd64 nvidia-profiler amd64 10.1.243-3 [2,673 kB]\n",
      "Get:50 http://archive.ubuntu.com/ubuntu focal/multiverse amd64 libnvtoolsext1 amd64 10.1.243-3 [25.1 kB]\n",
      "Get:51 http://archive.ubuntu.com/ubuntu focal/multiverse amd64 libnvvm3 amd64 10.1.243-3 [4,436 kB]\n",
      "Get:52 http://archive.ubuntu.com/ubuntu focal/multiverse amd64 libcupti-dev amd64 10.1.243-3 [4,779 kB]\n",
      "Get:53 http://archive.ubuntu.com/ubuntu focal/multiverse amd64 libthrust-dev all 1.9.5-1 [526 kB]\n",
      "Get:54 http://archive.ubuntu.com/ubuntu focal/multiverse amd64 nvidia-cuda-dev amd64 10.1.243-3 [420 MB]\n",
      "Get:55 http://archive.ubuntu.com/ubuntu focal/main amd64 opencl-c-headers all 2.2~2019.08.06-g0d5f18c-1 [29.9 kB]\n",
      "Get:56 http://archive.ubuntu.com/ubuntu focal/main amd64 ocl-icd-libopencl1 amd64 2.2.11-1ubuntu1 [30.3 kB]\n",
      "Get:57 http://archive.ubuntu.com/ubuntu focal/main amd64 ocl-icd-opencl-dev amd64 2.2.11-1ubuntu1 [2,512 B]\n",
      "Get:58 http://archive.ubuntu.com/ubuntu focal/multiverse amd64 nvidia-opencl-dev amd64 10.1.243-3 [16.5 kB]\n",
      "Get:59 http://archive.ubuntu.com/ubuntu focal/multiverse amd64 nvidia-cuda-toolkit amd64 10.1.243-3 [35.0 MB]\n",
      "Get:60 http://archive.ubuntu.com/ubuntu focal/multiverse amd64 nvidia-cuda-toolkit-gcc amd64 10.1.243-3 [15.3 kB]\n",
      "Get:61 http://archive.ubuntu.com/ubuntu focal/main amd64 vdpau-driver-all amd64 1.3-1ubuntu2 [4,596 B]\n",
      "Get:62 http://archive.ubuntu.com/ubuntu focal/multiverse amd64 libcupti-doc all 10.1.243-3 [2,117 kB]\n",
      "Get:63 http://archive.ubuntu.com/ubuntu focal/multiverse amd64 nvidia-cuda-doc all 10.1.243-3 [102 MB]\n",
      "Get:64 http://archive.ubuntu.com/ubuntu focal/multiverse amd64 nvidia-cuda-gdb amd64 10.1.243-3 [2,722 kB]\n",
      "Get:65 http://archive.ubuntu.com/ubuntu focal/multiverse amd64 nvidia-visual-profiler amd64 10.1.243-3 [115 MB]\n",
      "Fetched 1,400 MB in 41s (33.9 MB/s)                                            \n",
      "E: Failed to fetch http://archive.ubuntu.com/ubuntu/pool/multiverse/n/nvidia-graphics-drivers-460-server/libnvidia-compute-460-server_460.106.00-0ubuntu0.20.04.1_amd64.deb  404  Not Found [IP: 91.189.91.83 80]\n",
      "E: Failed to fetch http://archive.ubuntu.com/ubuntu/pool/main/m/mesa/mesa-vdpau-drivers_21.0.3-0ubuntu0.3~20.04.5_amd64.deb  404  Not Found [IP: 91.189.91.83 80]\n",
      "E: Unable to fetch some archives, maybe run apt-get update or try with --fix-missing?\n"
     ]
    }
   ],
   "source": [
    "!sudo apt-get install -y \\\n",
    "    nvidia-cuda-toolkit \\\n",
    "    nvidia-cuda-toolkit-gcc"
   ]
  },
  {
   "cell_type": "code",
   "execution_count": 15,
   "id": "e0cc8cc1",
   "metadata": {},
   "outputs": [
    {
     "data": {
      "text/plain": [
       "'/aiffel/aiffel/Aifflethon/Volumetric'"
      ]
     },
     "execution_count": 15,
     "metadata": {},
     "output_type": "execute_result"
    }
   ],
   "source": [
    "os.chdir(\"../../\")\n",
    "os.getcwd()"
   ]
  },
  {
   "cell_type": "code",
   "execution_count": 16,
   "id": "91b0feee",
   "metadata": {},
   "outputs": [
    {
     "name": "stdout",
     "output_type": "stream",
     "text": [
      "Collecting kornia\n",
      "  Downloading kornia-0.7.0-py2.py3-none-any.whl (705 kB)\n",
      "     |████████████████████████████████| 705 kB 5.9 MB/s            \n",
      "\u001b[?25hRequirement already satisfied: torch>=1.9.1 in /opt/conda/lib/python3.9/site-packages (from kornia) (1.9.1+cu111)\n",
      "Requirement already satisfied: packaging in /opt/conda/lib/python3.9/site-packages (from kornia) (21.3)\n",
      "Requirement already satisfied: typing-extensions in /opt/conda/lib/python3.9/site-packages (from torch>=1.9.1->kornia) (4.0.1)\n",
      "Requirement already satisfied: pyparsing!=3.0.5,>=2.0.2 in /opt/conda/lib/python3.9/site-packages (from packaging->kornia) (3.0.6)\n",
      "Installing collected packages: kornia\n",
      "Successfully installed kornia-0.7.0\n",
      "\u001b[33mWARNING: Running pip as the 'root' user can result in broken permissions and conflicting behaviour with the system package manager. It is recommended to use a virtual environment instead: https://pip.pypa.io/warnings/venv\u001b[0m\n",
      "Note: you may need to restart the kernel to use updated packages.\n"
     ]
    }
   ],
   "source": [
    "pip install kornia"
   ]
  },
  {
   "cell_type": "code",
   "execution_count": 17,
   "id": "2b679302",
   "metadata": {
    "scrolled": true
   },
   "outputs": [
    {
     "name": "stdout",
     "output_type": "stream",
     "text": [
      "Collecting pyvista\n",
      "  Downloading pyvista-0.42.1-py3-none-any.whl (1.6 MB)\n",
      "     |████████████████████████████████| 1.6 MB 7.4 MB/s            \n",
      "\u001b[?25hRequirement already satisfied: matplotlib>=3.0.1 in /opt/conda/lib/python3.9/site-packages (from pyvista) (3.4.3)\n",
      "Requirement already satisfied: pooch in /opt/conda/lib/python3.9/site-packages (from pyvista) (1.5.2)\n",
      "Collecting vtk\n",
      "  Downloading vtk-9.2.6-cp39-cp39-manylinux_2_17_x86_64.manylinux2014_x86_64.whl (79.3 MB)\n",
      "     |████████████████████████████████| 79.3 MB 54 kB/s              \n",
      "\u001b[?25hRequirement already satisfied: numpy in /opt/conda/lib/python3.9/site-packages (from pyvista) (1.21.4)\n",
      "Collecting scooby>=0.5.1\n",
      "  Downloading scooby-0.7.2-py3-none-any.whl (16 kB)\n",
      "Requirement already satisfied: pillow in /opt/conda/lib/python3.9/site-packages (from pyvista) (8.3.2)\n",
      "Requirement already satisfied: kiwisolver>=1.0.1 in /opt/conda/lib/python3.9/site-packages (from matplotlib>=3.0.1->pyvista) (1.3.2)\n",
      "Requirement already satisfied: python-dateutil>=2.7 in /opt/conda/lib/python3.9/site-packages (from matplotlib>=3.0.1->pyvista) (2.8.2)\n",
      "Requirement already satisfied: cycler>=0.10 in /opt/conda/lib/python3.9/site-packages (from matplotlib>=3.0.1->pyvista) (0.11.0)\n",
      "Requirement already satisfied: pyparsing>=2.2.1 in /opt/conda/lib/python3.9/site-packages (from matplotlib>=3.0.1->pyvista) (3.0.6)\n",
      "Requirement already satisfied: requests in /opt/conda/lib/python3.9/site-packages (from pooch->pyvista) (2.26.0)\n",
      "Requirement already satisfied: appdirs in /opt/conda/lib/python3.9/site-packages (from pooch->pyvista) (1.4.4)\n",
      "Requirement already satisfied: packaging in /opt/conda/lib/python3.9/site-packages (from pooch->pyvista) (21.3)\n",
      "Requirement already satisfied: six>=1.5 in /opt/conda/lib/python3.9/site-packages (from python-dateutil>=2.7->matplotlib>=3.0.1->pyvista) (1.16.0)\n",
      "Requirement already satisfied: idna<4,>=2.5 in /opt/conda/lib/python3.9/site-packages (from requests->pooch->pyvista) (2.10)\n",
      "Requirement already satisfied: certifi>=2017.4.17 in /opt/conda/lib/python3.9/site-packages (from requests->pooch->pyvista) (2021.10.8)\n",
      "Requirement already satisfied: urllib3<1.27,>=1.21.1 in /opt/conda/lib/python3.9/site-packages (from requests->pooch->pyvista) (1.26.7)\n",
      "Requirement already satisfied: charset-normalizer~=2.0.0 in /opt/conda/lib/python3.9/site-packages (from requests->pooch->pyvista) (2.0.8)\n",
      "Installing collected packages: vtk, scooby, pyvista\n",
      "Successfully installed pyvista-0.42.1 scooby-0.7.2 vtk-9.2.6\n",
      "\u001b[33mWARNING: Running pip as the 'root' user can result in broken permissions and conflicting behaviour with the system package manager. It is recommended to use a virtual environment instead: https://pip.pypa.io/warnings/venv\u001b[0m\n",
      "Note: you may need to restart the kernel to use updated packages.\n"
     ]
    }
   ],
   "source": [
    "pip install pyvista"
   ]
  },
  {
   "cell_type": "code",
   "execution_count": 18,
   "id": "e5d240f0",
   "metadata": {},
   "outputs": [
    {
     "name": "stdout",
     "output_type": "stream",
     "text": [
      "Collecting configargparse\n",
      "  Downloading ConfigArgParse-1.7-py3-none-any.whl (25 kB)\n",
      "Installing collected packages: configargparse\n",
      "Successfully installed configargparse-1.7\n",
      "\u001b[33mWARNING: Running pip as the 'root' user can result in broken permissions and conflicting behaviour with the system package manager. It is recommended to use a virtual environment instead: https://pip.pypa.io/warnings/venv\u001b[0m\n",
      "Note: you may need to restart the kernel to use updated packages.\n"
     ]
    }
   ],
   "source": [
    "pip install configargparse"
   ]
  },
  {
   "cell_type": "code",
   "execution_count": 19,
   "id": "55fb8398",
   "metadata": {},
   "outputs": [
    {
     "name": "stdout",
     "output_type": "stream",
     "text": [
      "Collecting plyfile\n",
      "  Downloading plyfile-1.0.1-py3-none-any.whl (23 kB)\n",
      "Requirement already satisfied: numpy>=1.17 in /opt/conda/lib/python3.9/site-packages (from plyfile) (1.21.4)\n",
      "Installing collected packages: plyfile\n",
      "Successfully installed plyfile-1.0.1\n",
      "\u001b[33mWARNING: Running pip as the 'root' user can result in broken permissions and conflicting behaviour with the system package manager. It is recommended to use a virtual environment instead: https://pip.pypa.io/warnings/venv\u001b[0m\n",
      "Note: you may need to restart the kernel to use updated packages.\n"
     ]
    }
   ],
   "source": [
    "pip install plyfile"
   ]
  },
  {
   "cell_type": "code",
   "execution_count": 21,
   "id": "ea820df2",
   "metadata": {},
   "outputs": [
    {
     "name": "stdout",
     "output_type": "stream",
     "text": [
      "--2023-09-16 06:50:37--  https://download.pytorch.org/whl/cu111/torch-1.10.2%2Bcu111-cp39-cp39-linux_x86_64.whl\n",
      "Resolving download.pytorch.org (download.pytorch.org)... 99.86.38.72, 99.86.38.37, 99.86.38.106, ...\n",
      "Connecting to download.pytorch.org (download.pytorch.org)|99.86.38.72|:443... connected.\n",
      "HTTP request sent, awaiting response... 200 OK\n",
      "Length: 2137654769 (2.0G) [binary/octet-stream]\n",
      "Saving to: ‘torch-1.10.2+cu111-cp39-cp39-linux_x86_64.whl’\n",
      "\n",
      "torch-1.10.2+cu111- 100%[===================>]   1.99G   148MB/s    in 15s     \n",
      "\n",
      "2023-09-16 06:50:52 (138 MB/s) - ‘torch-1.10.2+cu111-cp39-cp39-linux_x86_64.whl’ saved [2137654769/2137654769]\n",
      "\n"
     ]
    }
   ],
   "source": [
    "!wget https://download.pytorch.org/whl/cu111/torch-1.10.2%2Bcu111-cp39-cp39-linux_x86_64.whl"
   ]
  },
  {
   "cell_type": "code",
   "execution_count": 22,
   "id": "643f08c1",
   "metadata": {},
   "outputs": [
    {
     "name": "stdout",
     "output_type": "stream",
     "text": [
      "Processing ./torch-1.10.2+cu111-cp39-cp39-linux_x86_64.whl\n",
      "Requirement already satisfied: typing-extensions in /opt/conda/lib/python3.9/site-packages (from torch==1.10.2+cu111) (4.0.1)\n",
      "Installing collected packages: torch\n",
      "  Attempting uninstall: torch\n",
      "    Found existing installation: torch 1.9.1+cu111\n",
      "    Uninstalling torch-1.9.1+cu111:\n",
      "      Successfully uninstalled torch-1.9.1+cu111\n",
      "\u001b[31mERROR: pip's dependency resolver does not currently take into account all the packages that are installed. This behaviour is the source of the following dependency conflicts.\n",
      "torchvision 0.10.1+cu111 requires torch==1.9.1, but you have torch 1.10.2+cu111 which is incompatible.\n",
      "torchaudio 0.9.1 requires torch==1.9.1, but you have torch 1.10.2+cu111 which is incompatible.\u001b[0m\n",
      "Successfully installed torch-1.10.2+cu111\n",
      "\u001b[33mWARNING: Running pip as the 'root' user can result in broken permissions and conflicting behaviour with the system package manager. It is recommended to use a virtual environment instead: https://pip.pypa.io/warnings/venv\u001b[0m\n",
      "Note: you may need to restart the kernel to use updated packages.\n"
     ]
    }
   ],
   "source": [
    "pip install torch-1.10.2+cu111-cp39-cp39-linux_x86_64.whl"
   ]
  },
  {
   "cell_type": "code",
   "execution_count": 25,
   "id": "70148245",
   "metadata": {},
   "outputs": [
    {
     "name": "stdout",
     "output_type": "stream",
     "text": [
      "Requirement already satisfied: pip in /opt/conda/lib/python3.9/site-packages (21.3.1)\n",
      "\u001b[33mWARNING: Running pip as the 'root' user can result in broken permissions and conflicting behaviour with the system package manager. It is recommended to use a virtual environment instead: https://pip.pypa.io/warnings/venv\u001b[0m\n",
      "Note: you may need to restart the kernel to use updated packages.\n"
     ]
    }
   ],
   "source": [
    "pip install pip"
   ]
  },
  {
   "cell_type": "code",
   "execution_count": null,
   "id": "dced044c",
   "metadata": {},
   "outputs": [],
   "source": []
  }
 ],
 "metadata": {
  "kernelspec": {
   "display_name": "Python 3 (ipykernel)",
   "language": "python",
   "name": "python3"
  },
  "language_info": {
   "codemirror_mode": {
    "name": "ipython",
    "version": 3
   },
   "file_extension": ".py",
   "mimetype": "text/x-python",
   "name": "python",
   "nbconvert_exporter": "python",
   "pygments_lexer": "ipython3",
   "version": "3.9.7"
  }
 },
 "nbformat": 4,
 "nbformat_minor": 5
}
