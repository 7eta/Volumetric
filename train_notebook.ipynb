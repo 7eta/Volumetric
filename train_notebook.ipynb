{
 "cells": [
  {
   "cell_type": "code",
   "execution_count": 1,
   "id": "9ffa97fc",
   "metadata": {},
   "outputs": [
    {
     "name": "stdout",
     "output_type": "stream",
     "text": [
      "shell-init: error retrieving current directory: getcwd: cannot access parent directories: No such file or directory\r\n",
      "python: can't open file 'run_nerf.py': [Errno 2] No such file or directory\r\n"
     ]
    }
   ],
   "source": [
    "!python run_nerf.py --config configs/lego.txt --expname lego0915_test"
   ]
  },
  {
   "cell_type": "code",
   "execution_count": null,
   "id": "5aa0e27f",
   "metadata": {},
   "outputs": [],
   "source": [
    "!dir\n"
   ]
  }
 ],
 "metadata": {
  "kernelspec": {
   "display_name": "Python 3 (ipykernel)",
   "language": "python",
   "name": "python3"
  },
  "language_info": {
   "codemirror_mode": {
    "name": "ipython",
    "version": 3
   },
   "file_extension": ".py",
   "mimetype": "text/x-python",
   "name": "python",
   "nbconvert_exporter": "python",
   "pygments_lexer": "ipython3",
   "version": "3.9.7"
  }
 },
 "nbformat": 4,
 "nbformat_minor": 5
}
